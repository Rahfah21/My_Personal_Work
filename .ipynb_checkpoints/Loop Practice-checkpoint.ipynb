{
 "cells": [
  {
   "cell_type": "markdown",
   "id": "09e1736c",
   "metadata": {},
   "source": [
    "# For Loop\n",
    "<br>\n",
    "A For loop is used for iterating over a sequence( that is either a list, a tuple, a dictionary, a set or a string)"
   ]
  },
  {
   "cell_type": "markdown",
   "id": "6771b669",
   "metadata": {},
   "source": [
    "### Examples "
   ]
  },
  {
   "cell_type": "code",
   "execution_count": 2,
   "id": "af755f32",
   "metadata": {},
   "outputs": [
    {
     "name": "stdout",
     "output_type": "stream",
     "text": [
      "apple\n",
      "banana\n",
      "cherry\n"
     ]
    }
   ],
   "source": [
    "fruits = ['apple', 'banana','cherry']\n",
    "for i in fruits:\n",
    "    print(i)"
   ]
  },
  {
   "cell_type": "markdown",
   "id": "b8df0947",
   "metadata": {},
   "source": [
    "### Looping through a string "
   ]
  },
  {
   "cell_type": "code",
   "execution_count": 6,
   "id": "bcdbcc61",
   "metadata": {},
   "outputs": [
    {
     "name": "stdout",
     "output_type": "stream",
     "text": [
      "b\n",
      "a\n",
      "n\n",
      "a\n",
      "n\n",
      "a\n"
     ]
    }
   ],
   "source": [
    "for x in 'banana':\n",
    "    print(x)"
   ]
  },
  {
   "cell_type": "code",
   "execution_count": 10,
   "id": "9a3c4bba",
   "metadata": {},
   "outputs": [
    {
     "name": "stdout",
     "output_type": "stream",
     "text": [
      "a\n",
      "o\n",
      "a\n",
      "s\n"
     ]
    }
   ],
   "source": [
    "states = ['kwara', 'oyo','kaduna', 'lagos']\n",
    "for state in states:\n",
    "    print(state[-1])"
   ]
  },
  {
   "cell_type": "code",
   "execution_count": 11,
   "id": "322c5e12",
   "metadata": {},
   "outputs": [
    {
     "name": "stdout",
     "output_type": "stream",
     "text": [
      "l\n",
      "n\n",
      "r\n"
     ]
    }
   ],
   "source": [
    "for i in fruits:\n",
    "    print(i[-2])"
   ]
  },
  {
   "cell_type": "markdown",
   "id": "accfb081",
   "metadata": {},
   "source": [
    "## The break statement "
   ]
  },
  {
   "cell_type": "code",
   "execution_count": 14,
   "id": "8b801968",
   "metadata": {},
   "outputs": [
    {
     "name": "stdout",
     "output_type": "stream",
     "text": [
      "apple\n",
      "banana\n"
     ]
    }
   ],
   "source": [
    "for x in fruits:\n",
    "    print(x)\n",
    "    if x == \"banana\":\n",
    "        break"
   ]
  },
  {
   "cell_type": "code",
   "execution_count": 18,
   "id": "51f4cab4",
   "metadata": {},
   "outputs": [],
   "source": [
    "for x in fruits:\n",
    "    if x == \"banana\":\n",
    "        break\n",
    "        print(x)"
   ]
  },
  {
   "cell_type": "code",
   "execution_count": 20,
   "id": "8e3a3289",
   "metadata": {},
   "outputs": [
    {
     "name": "stdout",
     "output_type": "stream",
     "text": [
      "banana\n"
     ]
    }
   ],
   "source": [
    "print(x)"
   ]
  },
  {
   "cell_type": "code",
   "execution_count": 22,
   "id": "86e8a1ea",
   "metadata": {},
   "outputs": [
    {
     "name": "stdout",
     "output_type": "stream",
     "text": [
      "1\n",
      "2\n",
      "3\n",
      "4\n",
      "5\n",
      "6\n",
      "7\n",
      "8\n"
     ]
    }
   ],
   "source": [
    "mine= (1,2,3,4,5,6,7,8,9,10) \n",
    "for num in mine:\n",
    "    print(num)\n",
    "    if num == 8:\n",
    "        break"
   ]
  },
  {
   "cell_type": "code",
   "execution_count": 28,
   "id": "83578e4c",
   "metadata": {},
   "outputs": [
    {
     "name": "stdout",
     "output_type": "stream",
     "text": [
      "1\n",
      "2\n",
      "3\n",
      "4\n",
      "5\n",
      "6\n",
      "7\n",
      "8\n"
     ]
    }
   ],
   "source": [
    "mine= (1,2,3,4,5,6,7,8,9,10) \n",
    "for num in mine:\n",
    "    print(num)\n",
    "    if num >=8:\n",
    "        break"
   ]
  },
  {
   "cell_type": "markdown",
   "id": "cd61cd59",
   "metadata": {},
   "source": [
    "## The continue statement "
   ]
  },
  {
   "cell_type": "code",
   "execution_count": 31,
   "id": "3d8d2f02",
   "metadata": {},
   "outputs": [],
   "source": [
    "for x in fruits:\n",
    "    if x == 'banana':\n",
    "        continue "
   ]
  },
  {
   "cell_type": "code",
   "execution_count": 33,
   "id": "e91fa202",
   "metadata": {},
   "outputs": [
    {
     "name": "stdout",
     "output_type": "stream",
     "text": [
      "cherry\n"
     ]
    }
   ],
   "source": [
    "          print(x)"
   ]
  },
  {
   "cell_type": "markdown",
   "id": "cae20357",
   "metadata": {},
   "source": [
    "## The range() function "
   ]
  },
  {
   "cell_type": "code",
   "execution_count": 34,
   "id": "2b20c859",
   "metadata": {},
   "outputs": [
    {
     "name": "stdout",
     "output_type": "stream",
     "text": [
      "0\n",
      "1\n",
      "2\n",
      "3\n",
      "4\n",
      "5\n",
      "6\n",
      "7\n",
      "8\n",
      "9\n",
      "10\n",
      "11\n",
      "12\n",
      "13\n",
      "14\n"
     ]
    }
   ],
   "source": [
    "for a in range(15):\n",
    "    print(a)"
   ]
  },
  {
   "cell_type": "code",
   "execution_count": 36,
   "id": "1a7e0b27",
   "metadata": {},
   "outputs": [
    {
     "name": "stdout",
     "output_type": "stream",
     "text": [
      "2\n",
      "5\n",
      "8\n"
     ]
    }
   ],
   "source": [
    "for y in range(2,10,3):\n",
    "        print(y)"
   ]
  },
  {
   "cell_type": "markdown",
   "id": "f838816f",
   "metadata": {},
   "source": [
    "### Write a code for multiplication tables"
   ]
  },
  {
   "cell_type": "code",
   "execution_count": 43,
   "id": "252e5018",
   "metadata": {},
   "outputs": [
    {
     "name": "stdout",
     "output_type": "stream",
     "text": [
      "0\n",
      "4\n",
      "8\n",
      "12\n",
      "16\n",
      "20\n",
      "24\n",
      "28\n",
      "32\n",
      "36\n",
      "40\n",
      "44\n",
      "48\n"
     ]
    }
   ],
   "source": [
    "for i in range(0,50,4):\n",
    "    print(i)"
   ]
  },
  {
   "cell_type": "code",
   "execution_count": 44,
   "id": "5ee1f872",
   "metadata": {},
   "outputs": [
    {
     "name": "stdout",
     "output_type": "stream",
     "text": [
      "3\n",
      "6\n",
      "9\n",
      "12\n",
      "15\n",
      "18\n",
      "21\n",
      "24\n",
      "27\n",
      "30\n",
      "33\n",
      "36\n"
     ]
    }
   ],
   "source": [
    "for multiplication in range(1,13):\n",
    "    print(multiplication*3)"
   ]
  },
  {
   "cell_type": "code",
   "execution_count": 45,
   "id": "c98627fb",
   "metadata": {},
   "outputs": [
    {
     "name": "stdout",
     "output_type": "stream",
     "text": [
      "4\n",
      "8\n",
      "12\n",
      "16\n",
      "20\n",
      "24\n",
      "28\n",
      "32\n",
      "36\n",
      "40\n",
      "44\n",
      "48\n"
     ]
    }
   ],
   "source": [
    "for i in range(1,13):\n",
    "    print(i*4)"
   ]
  },
  {
   "cell_type": "code",
   "execution_count": 47,
   "id": "49d3dd73",
   "metadata": {},
   "outputs": [
    {
     "name": "stdout",
     "output_type": "stream",
     "text": [
      "10\n",
      "20\n",
      "30\n",
      "40\n",
      "50\n",
      "60\n",
      "70\n",
      "80\n",
      "90\n",
      "100\n",
      "110\n",
      "120\n",
      "130\n",
      "140\n",
      "150\n",
      "160\n",
      "170\n",
      "180\n",
      "190\n",
      "200\n",
      "210\n",
      "220\n",
      "230\n",
      "240\n"
     ]
    }
   ],
   "source": [
    "for y in range(1,25):\n",
    "    print(y*10)"
   ]
  },
  {
   "cell_type": "markdown",
   "id": "a01c0800",
   "metadata": {},
   "source": [
    "### Else in For Loop "
   ]
  },
  {
   "cell_type": "code",
   "execution_count": 48,
   "id": "591402e7",
   "metadata": {},
   "outputs": [
    {
     "name": "stdout",
     "output_type": "stream",
     "text": [
      "0\n",
      "1\n",
      "2\n",
      "3\n",
      "4\n",
      "5\n",
      "6\n",
      "7\n",
      "Finally finished\n"
     ]
    }
   ],
   "source": [
    "for x in range(8):\n",
    "    print(x)\n",
    "else:\n",
    "    print(\"Finally finished\")"
   ]
  },
  {
   "cell_type": "code",
   "execution_count": 49,
   "id": "10e06093",
   "metadata": {},
   "outputs": [
    {
     "name": "stdout",
     "output_type": "stream",
     "text": [
      "3\n",
      "Finally finished\n"
     ]
    }
   ],
   "source": [
    "for x in range(6):\n",
    "    if x == 3:\n",
    "        print(x)\n",
    "else:\n",
    "    print(\"Finally finished\")"
   ]
  },
  {
   "cell_type": "markdown",
   "id": "c279d07b",
   "metadata": {},
   "source": [
    "# Nested Loops"
   ]
  },
  {
   "cell_type": "code",
   "execution_count": 50,
   "id": "2ac3f1e2",
   "metadata": {},
   "outputs": [
    {
     "name": "stdout",
     "output_type": "stream",
     "text": [
      "red apple\n",
      "red banana\n",
      "red cherry\n",
      "big apple\n",
      "big banana\n",
      "big cherry\n",
      "tasty apple\n",
      "tasty banana\n",
      "tasty cherry\n"
     ]
    }
   ],
   "source": [
    "adj=['red','big','tasty']\n",
    "fruits=['apple','banana','cherry']\n",
    "for x in adj:\n",
    "    for y in fruits:\n",
    "        print(x,y)"
   ]
  },
  {
   "cell_type": "code",
   "execution_count": 51,
   "id": "ccfdb043",
   "metadata": {},
   "outputs": [
    {
     "name": "stdout",
     "output_type": "stream",
     "text": [
      "0 apple\n",
      "0 banana\n",
      "0 cherry\n",
      "1 apple\n",
      "1 banana\n",
      "1 cherry\n",
      "2 apple\n",
      "2 banana\n",
      "2 cherry\n",
      "3 apple\n",
      "3 banana\n",
      "3 cherry\n"
     ]
    }
   ],
   "source": [
    "for x in range(4):\n",
    "    for y in fruits:\n",
    "        print(x,y)"
   ]
  },
  {
   "cell_type": "markdown",
   "id": "6cdcc1cf",
   "metadata": {},
   "source": [
    "## The Pass Statement "
   ]
  },
  {
   "cell_type": "code",
   "execution_count": 53,
   "id": "28706780",
   "metadata": {},
   "outputs": [],
   "source": [
    "for x in [0,1,2]:\n",
    "    pass"
   ]
  },
  {
   "cell_type": "code",
   "execution_count": 69,
   "id": "3ba666c3",
   "metadata": {},
   "outputs": [
    {
     "name": "stdout",
     "output_type": "stream",
     "text": [
      "{'Name': ['Kemi', 'ayo', 'dami'], 'Age': [12, 15, 19], 'Sex': ['feamle', 'male', 'female'], 'Dept': ['Maths', 'Statistics', 'Chemistry']}\n"
     ]
    }
   ],
   "source": [
    "dict1={'Name':['Kemi',\"ayo\",'dami'],'Age':[12,15,19],'Sex':[\"feamle\",'male','female'],'Dept':['Maths','Statistics','Chemistry']}\n",
    "print(dict1)"
   ]
  },
  {
   "cell_type": "code",
   "execution_count": 74,
   "id": "fdf49880",
   "metadata": {},
   "outputs": [
    {
     "data": {
      "text/html": [
       "<div>\n",
       "<style scoped>\n",
       "    .dataframe tbody tr th:only-of-type {\n",
       "        vertical-align: middle;\n",
       "    }\n",
       "\n",
       "    .dataframe tbody tr th {\n",
       "        vertical-align: top;\n",
       "    }\n",
       "\n",
       "    .dataframe thead th {\n",
       "        text-align: right;\n",
       "    }\n",
       "</style>\n",
       "<table border=\"1\" class=\"dataframe\">\n",
       "  <thead>\n",
       "    <tr style=\"text-align: right;\">\n",
       "      <th></th>\n",
       "      <th>Name</th>\n",
       "      <th>Age</th>\n",
       "      <th>Sex</th>\n",
       "      <th>Dept</th>\n",
       "    </tr>\n",
       "  </thead>\n",
       "  <tbody>\n",
       "    <tr>\n",
       "      <th>0</th>\n",
       "      <td>Kemi</td>\n",
       "      <td>12</td>\n",
       "      <td>feamle</td>\n",
       "      <td>Maths</td>\n",
       "    </tr>\n",
       "    <tr>\n",
       "      <th>1</th>\n",
       "      <td>ayo</td>\n",
       "      <td>15</td>\n",
       "      <td>male</td>\n",
       "      <td>Statistics</td>\n",
       "    </tr>\n",
       "    <tr>\n",
       "      <th>2</th>\n",
       "      <td>dami</td>\n",
       "      <td>19</td>\n",
       "      <td>female</td>\n",
       "      <td>Chemistry</td>\n",
       "    </tr>\n",
       "  </tbody>\n",
       "</table>\n",
       "</div>"
      ],
      "text/plain": [
       "   Name  Age     Sex        Dept\n",
       "0  Kemi   12  feamle       Maths\n",
       "1   ayo   15    male  Statistics\n",
       "2  dami   19  female   Chemistry"
      ]
     },
     "execution_count": 74,
     "metadata": {},
     "output_type": "execute_result"
    }
   ],
   "source": [
    "import pandas as pd\n",
    "my= pd.DataFrame(dict1)\n",
    "my"
   ]
  },
  {
   "cell_type": "code",
   "execution_count": 73,
   "id": "fdb7aa40",
   "metadata": {},
   "outputs": [
    {
     "name": "stdout",
     "output_type": "stream",
     "text": [
      "Name\n",
      "Age\n",
      "Sex\n",
      "Dept\n"
     ]
    }
   ],
   "source": [
    "for x in dict1:\n",
    "    print(x)\n",
    "    "
   ]
  },
  {
   "cell_type": "code",
   "execution_count": null,
   "id": "4ef5b30d",
   "metadata": {},
   "outputs": [],
   "source": []
  },
  {
   "cell_type": "code",
   "execution_count": null,
   "id": "846b693d",
   "metadata": {},
   "outputs": [],
   "source": []
  },
  {
   "cell_type": "code",
   "execution_count": null,
   "id": "6975df14",
   "metadata": {},
   "outputs": [],
   "source": []
  },
  {
   "cell_type": "code",
   "execution_count": null,
   "id": "125f023f",
   "metadata": {},
   "outputs": [],
   "source": []
  }
 ],
 "metadata": {
  "kernelspec": {
   "display_name": "Python 3 (ipykernel)",
   "language": "python",
   "name": "python3"
  },
  "language_info": {
   "codemirror_mode": {
    "name": "ipython",
    "version": 3
   },
   "file_extension": ".py",
   "mimetype": "text/x-python",
   "name": "python",
   "nbconvert_exporter": "python",
   "pygments_lexer": "ipython3",
   "version": "3.11.5"
  }
 },
 "nbformat": 4,
 "nbformat_minor": 5
}
