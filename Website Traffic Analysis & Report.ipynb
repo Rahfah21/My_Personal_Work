{
 "cells": [
  {
   "cell_type": "markdown",
   "id": "3ec46bad",
   "metadata": {},
   "source": [
    "# Website Traffic Analysis"
   ]
  },
  {
   "cell_type": "markdown",
   "id": "ef8bef65",
   "metadata": {},
   "source": [
    "### Import Libraries"
   ]
  },
  {
   "cell_type": "code",
   "execution_count": 1,
   "id": "f9308211",
   "metadata": {},
   "outputs": [],
   "source": [
    "import numpy as np\n",
    "import pandas as pd\n",
    "import matplotlib.pyplot as plt\n",
    "import seaborn as sns"
   ]
  },
  {
   "cell_type": "markdown",
   "id": "20ac4569",
   "metadata": {},
   "source": [
    "### Loading Dataset"
   ]
  },
  {
   "cell_type": "code",
   "execution_count": 2,
   "id": "110b3b0a",
   "metadata": {},
   "outputs": [
    {
     "data": {
      "text/html": [
       "<div>\n",
       "<style scoped>\n",
       "    .dataframe tbody tr th:only-of-type {\n",
       "        vertical-align: middle;\n",
       "    }\n",
       "\n",
       "    .dataframe tbody tr th {\n",
       "        vertical-align: top;\n",
       "    }\n",
       "\n",
       "    .dataframe thead th {\n",
       "        text-align: right;\n",
       "    }\n",
       "</style>\n",
       "<table border=\"1\" class=\"dataframe\">\n",
       "  <thead>\n",
       "    <tr style=\"text-align: right;\">\n",
       "      <th></th>\n",
       "      <th>event</th>\n",
       "      <th>date</th>\n",
       "      <th>country</th>\n",
       "      <th>city</th>\n",
       "      <th>artist</th>\n",
       "      <th>album</th>\n",
       "      <th>track</th>\n",
       "      <th>isrc</th>\n",
       "      <th>linkid</th>\n",
       "    </tr>\n",
       "  </thead>\n",
       "  <tbody>\n",
       "    <tr>\n",
       "      <th>0</th>\n",
       "      <td>click</td>\n",
       "      <td>8/21/2021</td>\n",
       "      <td>Saudi Arabia</td>\n",
       "      <td>Jeddah</td>\n",
       "      <td>Tesher</td>\n",
       "      <td>Jalebi Baby</td>\n",
       "      <td>Jalebi Baby</td>\n",
       "      <td>QZNWQ2070741</td>\n",
       "      <td>2d896d31-97b6-4869-967b-1c5fb9cd4bb8</td>\n",
       "    </tr>\n",
       "    <tr>\n",
       "      <th>1</th>\n",
       "      <td>click</td>\n",
       "      <td>8/21/2021</td>\n",
       "      <td>Saudi Arabia</td>\n",
       "      <td>Jeddah</td>\n",
       "      <td>Tesher</td>\n",
       "      <td>Jalebi Baby</td>\n",
       "      <td>Jalebi Baby</td>\n",
       "      <td>QZNWQ2070741</td>\n",
       "      <td>2d896d31-97b6-4869-967b-1c5fb9cd4bb8</td>\n",
       "    </tr>\n",
       "    <tr>\n",
       "      <th>2</th>\n",
       "      <td>click</td>\n",
       "      <td>8/21/2021</td>\n",
       "      <td>India</td>\n",
       "      <td>Ludhiana</td>\n",
       "      <td>Reyanna Maria</td>\n",
       "      <td>So Pretty</td>\n",
       "      <td>So Pretty</td>\n",
       "      <td>USUM72100871</td>\n",
       "      <td>23199824-9cf5-4b98-942a-34965c3b0cc2</td>\n",
       "    </tr>\n",
       "    <tr>\n",
       "      <th>3</th>\n",
       "      <td>click</td>\n",
       "      <td>8/21/2021</td>\n",
       "      <td>France</td>\n",
       "      <td>Unknown</td>\n",
       "      <td>Simone &amp; Simaria, Sebastian Yatra</td>\n",
       "      <td>No Llores Más</td>\n",
       "      <td>No Llores Más</td>\n",
       "      <td>BRUM72003904</td>\n",
       "      <td>35573248-4e49-47c7-af80-08a960fa74cd</td>\n",
       "    </tr>\n",
       "    <tr>\n",
       "      <th>4</th>\n",
       "      <td>click</td>\n",
       "      <td>8/21/2021</td>\n",
       "      <td>Maldives</td>\n",
       "      <td>Malé</td>\n",
       "      <td>Tesher</td>\n",
       "      <td>Jalebi Baby</td>\n",
       "      <td>Jalebi Baby</td>\n",
       "      <td>QZNWQ2070741</td>\n",
       "      <td>2d896d31-97b6-4869-967b-1c5fb9cd4bb8</td>\n",
       "    </tr>\n",
       "    <tr>\n",
       "      <th>...</th>\n",
       "      <td>...</td>\n",
       "      <td>...</td>\n",
       "      <td>...</td>\n",
       "      <td>...</td>\n",
       "      <td>...</td>\n",
       "      <td>...</td>\n",
       "      <td>...</td>\n",
       "      <td>...</td>\n",
       "      <td>...</td>\n",
       "    </tr>\n",
       "    <tr>\n",
       "      <th>226273</th>\n",
       "      <td>pageview</td>\n",
       "      <td>8/24/2021</td>\n",
       "      <td>Kuwait</td>\n",
       "      <td>Kuwait City</td>\n",
       "      <td>Sean Paul</td>\n",
       "      <td>The Trinity</td>\n",
       "      <td>Temperature</td>\n",
       "      <td>USAT20505520</td>\n",
       "      <td>04ba6b17-1055-4f0e-a75e-3cdb0d0d4106</td>\n",
       "    </tr>\n",
       "    <tr>\n",
       "      <th>226274</th>\n",
       "      <td>pageview</td>\n",
       "      <td>8/24/2021</td>\n",
       "      <td>India</td>\n",
       "      <td>Chennai</td>\n",
       "      <td>Miscél</td>\n",
       "      <td>when you left</td>\n",
       "      <td>when you left</td>\n",
       "      <td>QM42K1907890</td>\n",
       "      <td>2fc15e8b-83aa-40ee-9f9d-5d96c6d4356c</td>\n",
       "    </tr>\n",
       "    <tr>\n",
       "      <th>226275</th>\n",
       "      <td>pageview</td>\n",
       "      <td>8/24/2021</td>\n",
       "      <td>India</td>\n",
       "      <td>Jaipur</td>\n",
       "      <td>Trippie Redd, Lil Uzi Vert</td>\n",
       "      <td>Holy Smokes (feat. Lil Uzi Vert)</td>\n",
       "      <td>Holy Smokes</td>\n",
       "      <td>QZJ842001118</td>\n",
       "      <td>eedc8702-6bd2-499a-972f-260c35f72e0f</td>\n",
       "    </tr>\n",
       "    <tr>\n",
       "      <th>226276</th>\n",
       "      <td>pageview</td>\n",
       "      <td>8/24/2021</td>\n",
       "      <td>France</td>\n",
       "      <td>Unknown</td>\n",
       "      <td>Young Thug</td>\n",
       "      <td>Tick Tock</td>\n",
       "      <td>Tick Tock</td>\n",
       "      <td>USAT22104514</td>\n",
       "      <td>e0a76dc3-7ccd-405f-8ee8-a2c55c0e0ed2</td>\n",
       "    </tr>\n",
       "    <tr>\n",
       "      <th>226277</th>\n",
       "      <td>pageview</td>\n",
       "      <td>8/24/2021</td>\n",
       "      <td>Iraq</td>\n",
       "      <td>Duhok</td>\n",
       "      <td>Tesher</td>\n",
       "      <td>Jalebi Baby</td>\n",
       "      <td>Jalebi Baby</td>\n",
       "      <td>QZNWQ2070741</td>\n",
       "      <td>2d896d31-97b6-4869-967b-1c5fb9cd4bb8</td>\n",
       "    </tr>\n",
       "  </tbody>\n",
       "</table>\n",
       "<p>226278 rows × 9 columns</p>\n",
       "</div>"
      ],
      "text/plain": [
       "           event       date       country         city  \\\n",
       "0          click  8/21/2021  Saudi Arabia       Jeddah   \n",
       "1          click  8/21/2021  Saudi Arabia       Jeddah   \n",
       "2          click  8/21/2021         India     Ludhiana   \n",
       "3          click  8/21/2021        France      Unknown   \n",
       "4          click  8/21/2021      Maldives         Malé   \n",
       "...          ...        ...           ...          ...   \n",
       "226273  pageview  8/24/2021        Kuwait  Kuwait City   \n",
       "226274  pageview  8/24/2021         India      Chennai   \n",
       "226275  pageview  8/24/2021         India       Jaipur   \n",
       "226276  pageview  8/24/2021        France      Unknown   \n",
       "226277  pageview  8/24/2021          Iraq        Duhok   \n",
       "\n",
       "                                   artist                             album  \\\n",
       "0                                  Tesher                       Jalebi Baby   \n",
       "1                                  Tesher                       Jalebi Baby   \n",
       "2                           Reyanna Maria                         So Pretty   \n",
       "3       Simone & Simaria, Sebastian Yatra                     No Llores Más   \n",
       "4                                  Tesher                       Jalebi Baby   \n",
       "...                                   ...                               ...   \n",
       "226273                          Sean Paul                       The Trinity   \n",
       "226274                             Miscél                     when you left   \n",
       "226275         Trippie Redd, Lil Uzi Vert  Holy Smokes (feat. Lil Uzi Vert)   \n",
       "226276                         Young Thug                         Tick Tock   \n",
       "226277                             Tesher                       Jalebi Baby   \n",
       "\n",
       "                track          isrc                                linkid  \n",
       "0         Jalebi Baby  QZNWQ2070741  2d896d31-97b6-4869-967b-1c5fb9cd4bb8  \n",
       "1         Jalebi Baby  QZNWQ2070741  2d896d31-97b6-4869-967b-1c5fb9cd4bb8  \n",
       "2           So Pretty  USUM72100871  23199824-9cf5-4b98-942a-34965c3b0cc2  \n",
       "3       No Llores Más  BRUM72003904  35573248-4e49-47c7-af80-08a960fa74cd  \n",
       "4         Jalebi Baby  QZNWQ2070741  2d896d31-97b6-4869-967b-1c5fb9cd4bb8  \n",
       "...               ...           ...                                   ...  \n",
       "226273    Temperature  USAT20505520  04ba6b17-1055-4f0e-a75e-3cdb0d0d4106  \n",
       "226274  when you left  QM42K1907890  2fc15e8b-83aa-40ee-9f9d-5d96c6d4356c  \n",
       "226275    Holy Smokes  QZJ842001118  eedc8702-6bd2-499a-972f-260c35f72e0f  \n",
       "226276      Tick Tock  USAT22104514  e0a76dc3-7ccd-405f-8ee8-a2c55c0e0ed2  \n",
       "226277    Jalebi Baby  QZNWQ2070741  2d896d31-97b6-4869-967b-1c5fb9cd4bb8  \n",
       "\n",
       "[226278 rows x 9 columns]"
      ]
     },
     "execution_count": 2,
     "metadata": {},
     "output_type": "execute_result"
    }
   ],
   "source": [
    "website_traffic=pd.read_csv(\"traffic.csv\")\n",
    "website_traffic"
   ]
  },
  {
   "cell_type": "markdown",
   "id": "8d7f4218",
   "metadata": {},
   "source": [
    "### Information About Dataset"
   ]
  },
  {
   "cell_type": "code",
   "execution_count": 3,
   "id": "cd6bf1a4",
   "metadata": {},
   "outputs": [
    {
     "data": {
      "text/plain": [
       "(226278, 9)"
      ]
     },
     "execution_count": 3,
     "metadata": {},
     "output_type": "execute_result"
    }
   ],
   "source": [
    "website_traffic.shape"
   ]
  },
  {
   "cell_type": "code",
   "execution_count": 4,
   "id": "eac81f19",
   "metadata": {
    "scrolled": true
   },
   "outputs": [
    {
     "name": "stdout",
     "output_type": "stream",
     "text": [
      "<class 'pandas.core.frame.DataFrame'>\n",
      "RangeIndex: 226278 entries, 0 to 226277\n",
      "Data columns (total 9 columns):\n",
      " #   Column   Non-Null Count   Dtype \n",
      "---  ------   --------------   ----- \n",
      " 0   event    226278 non-null  object\n",
      " 1   date     226278 non-null  object\n",
      " 2   country  226267 non-null  object\n",
      " 3   city     226267 non-null  object\n",
      " 4   artist   226241 non-null  object\n",
      " 5   album    226273 non-null  object\n",
      " 6   track    226273 non-null  object\n",
      " 7   isrc     219157 non-null  object\n",
      " 8   linkid   226278 non-null  object\n",
      "dtypes: object(9)\n",
      "memory usage: 15.5+ MB\n"
     ]
    }
   ],
   "source": [
    "website_traffic.info()"
   ]
  },
  {
   "cell_type": "markdown",
   "id": "901d8e85",
   "metadata": {},
   "source": [
    "# Data Cleaning\n",
    " Task to do\n",
    "\n",
    "* Handle missing values\n",
    "* Remove duplicates\n",
    "* Format the data"
   ]
  },
  {
   "cell_type": "code",
   "execution_count": 5,
   "id": "be13c621",
   "metadata": {},
   "outputs": [
    {
     "data": {
      "text/plain": [
       "event         0\n",
       "date          0\n",
       "country      11\n",
       "city         11\n",
       "artist       37\n",
       "album         5\n",
       "track         5\n",
       "isrc       7121\n",
       "linkid        0\n",
       "dtype: int64"
      ]
     },
     "execution_count": 5,
     "metadata": {},
     "output_type": "execute_result"
    }
   ],
   "source": [
    "website_traffic.isnull().sum()"
   ]
  },
  {
   "cell_type": "code",
   "execution_count": 6,
   "id": "5a69831a",
   "metadata": {},
   "outputs": [],
   "source": [
    "website_traffic.dropna(inplace=True)"
   ]
  },
  {
   "cell_type": "code",
   "execution_count": 7,
   "id": "81960d7d",
   "metadata": {},
   "outputs": [
    {
     "data": {
      "text/plain": [
       "event      0\n",
       "date       0\n",
       "country    0\n",
       "city       0\n",
       "artist     0\n",
       "album      0\n",
       "track      0\n",
       "isrc       0\n",
       "linkid     0\n",
       "dtype: int64"
      ]
     },
     "execution_count": 7,
     "metadata": {},
     "output_type": "execute_result"
    }
   ],
   "source": [
    "website_traffic.isnull().sum()"
   ]
  },
  {
   "cell_type": "code",
   "execution_count": 8,
   "id": "b10d9970",
   "metadata": {},
   "outputs": [
    {
     "data": {
      "text/html": [
       "<div>\n",
       "<style scoped>\n",
       "    .dataframe tbody tr th:only-of-type {\n",
       "        vertical-align: middle;\n",
       "    }\n",
       "\n",
       "    .dataframe tbody tr th {\n",
       "        vertical-align: top;\n",
       "    }\n",
       "\n",
       "    .dataframe thead th {\n",
       "        text-align: right;\n",
       "    }\n",
       "</style>\n",
       "<table border=\"1\" class=\"dataframe\">\n",
       "  <thead>\n",
       "    <tr style=\"text-align: right;\">\n",
       "      <th></th>\n",
       "      <th>event</th>\n",
       "      <th>date</th>\n",
       "      <th>country</th>\n",
       "      <th>city</th>\n",
       "      <th>artist</th>\n",
       "      <th>album</th>\n",
       "      <th>track</th>\n",
       "      <th>isrc</th>\n",
       "      <th>linkid</th>\n",
       "    </tr>\n",
       "  </thead>\n",
       "  <tbody>\n",
       "    <tr>\n",
       "      <th>0</th>\n",
       "      <td>click</td>\n",
       "      <td>8/21/2021</td>\n",
       "      <td>Saudi Arabia</td>\n",
       "      <td>Jeddah</td>\n",
       "      <td>Tesher</td>\n",
       "      <td>Jalebi Baby</td>\n",
       "      <td>Jalebi Baby</td>\n",
       "      <td>QZNWQ2070741</td>\n",
       "      <td>2d896d31-97b6-4869-967b-1c5fb9cd4bb8</td>\n",
       "    </tr>\n",
       "    <tr>\n",
       "      <th>2</th>\n",
       "      <td>click</td>\n",
       "      <td>8/21/2021</td>\n",
       "      <td>India</td>\n",
       "      <td>Ludhiana</td>\n",
       "      <td>Reyanna Maria</td>\n",
       "      <td>So Pretty</td>\n",
       "      <td>So Pretty</td>\n",
       "      <td>USUM72100871</td>\n",
       "      <td>23199824-9cf5-4b98-942a-34965c3b0cc2</td>\n",
       "    </tr>\n",
       "    <tr>\n",
       "      <th>3</th>\n",
       "      <td>click</td>\n",
       "      <td>8/21/2021</td>\n",
       "      <td>France</td>\n",
       "      <td>Unknown</td>\n",
       "      <td>Simone &amp; Simaria, Sebastian Yatra</td>\n",
       "      <td>No Llores Más</td>\n",
       "      <td>No Llores Más</td>\n",
       "      <td>BRUM72003904</td>\n",
       "      <td>35573248-4e49-47c7-af80-08a960fa74cd</td>\n",
       "    </tr>\n",
       "    <tr>\n",
       "      <th>4</th>\n",
       "      <td>click</td>\n",
       "      <td>8/21/2021</td>\n",
       "      <td>Maldives</td>\n",
       "      <td>Malé</td>\n",
       "      <td>Tesher</td>\n",
       "      <td>Jalebi Baby</td>\n",
       "      <td>Jalebi Baby</td>\n",
       "      <td>QZNWQ2070741</td>\n",
       "      <td>2d896d31-97b6-4869-967b-1c5fb9cd4bb8</td>\n",
       "    </tr>\n",
       "    <tr>\n",
       "      <th>5</th>\n",
       "      <td>click</td>\n",
       "      <td>8/21/2021</td>\n",
       "      <td>United States</td>\n",
       "      <td>Los Angeles</td>\n",
       "      <td>KenTheMan</td>\n",
       "      <td>I'm Perfect</td>\n",
       "      <td>I'm Perfect</td>\n",
       "      <td>US39N2102090</td>\n",
       "      <td>190c7170-4044-4c97-9709-926917155b02</td>\n",
       "    </tr>\n",
       "    <tr>\n",
       "      <th>...</th>\n",
       "      <td>...</td>\n",
       "      <td>...</td>\n",
       "      <td>...</td>\n",
       "      <td>...</td>\n",
       "      <td>...</td>\n",
       "      <td>...</td>\n",
       "      <td>...</td>\n",
       "      <td>...</td>\n",
       "      <td>...</td>\n",
       "    </tr>\n",
       "    <tr>\n",
       "      <th>226263</th>\n",
       "      <td>pageview</td>\n",
       "      <td>8/24/2021</td>\n",
       "      <td>Turks and Caicos Islands</td>\n",
       "      <td>Providenciales</td>\n",
       "      <td>Kayla Nicole, Taylor Girlz, Flo Milli</td>\n",
       "      <td>Bundles 2 (feat. Flo Milli, Taylor Girlz)</td>\n",
       "      <td>Bundles 2 (feat. Flo Milli, Taylor Girlz)</td>\n",
       "      <td>QMCE32100359</td>\n",
       "      <td>fbf4b935-f961-4b13-b1d8-45ad47093559</td>\n",
       "    </tr>\n",
       "    <tr>\n",
       "      <th>226264</th>\n",
       "      <td>pageview</td>\n",
       "      <td>8/24/2021</td>\n",
       "      <td>Australia</td>\n",
       "      <td>Sydney</td>\n",
       "      <td>salem ilese</td>\n",
       "      <td>Mad at Disney</td>\n",
       "      <td>Mad at Disney</td>\n",
       "      <td>QMEZE2076989</td>\n",
       "      <td>61923241-cf99-4fe2-b9ec-6cf356565842</td>\n",
       "    </tr>\n",
       "    <tr>\n",
       "      <th>226269</th>\n",
       "      <td>pageview</td>\n",
       "      <td>8/24/2021</td>\n",
       "      <td>United Kingdom</td>\n",
       "      <td>London</td>\n",
       "      <td>Zeina</td>\n",
       "      <td>Talk Luv</td>\n",
       "      <td>Talk Luv</td>\n",
       "      <td>QZAKB2124527</td>\n",
       "      <td>4c402853-c65b-4ea5-ac65-04a9faf5c043</td>\n",
       "    </tr>\n",
       "    <tr>\n",
       "      <th>226272</th>\n",
       "      <td>pageview</td>\n",
       "      <td>8/24/2021</td>\n",
       "      <td>United States</td>\n",
       "      <td>Chicago</td>\n",
       "      <td>Pop Smoke, 21 Savage, 42 Dugg</td>\n",
       "      <td>Faith</td>\n",
       "      <td>Bout A Million (feat. 42 Dugg &amp; 21 Savage)</td>\n",
       "      <td>USUM72112386</td>\n",
       "      <td>9ca8ca2d-3507-4287-8f66-a80314dc7169</td>\n",
       "    </tr>\n",
       "    <tr>\n",
       "      <th>226274</th>\n",
       "      <td>pageview</td>\n",
       "      <td>8/24/2021</td>\n",
       "      <td>India</td>\n",
       "      <td>Chennai</td>\n",
       "      <td>Miscél</td>\n",
       "      <td>when you left</td>\n",
       "      <td>when you left</td>\n",
       "      <td>QM42K1907890</td>\n",
       "      <td>2fc15e8b-83aa-40ee-9f9d-5d96c6d4356c</td>\n",
       "    </tr>\n",
       "  </tbody>\n",
       "</table>\n",
       "<p>116257 rows × 9 columns</p>\n",
       "</div>"
      ],
      "text/plain": [
       "           event       date                   country            city  \\\n",
       "0          click  8/21/2021              Saudi Arabia          Jeddah   \n",
       "2          click  8/21/2021                     India        Ludhiana   \n",
       "3          click  8/21/2021                    France         Unknown   \n",
       "4          click  8/21/2021                  Maldives            Malé   \n",
       "5          click  8/21/2021             United States     Los Angeles   \n",
       "...          ...        ...                       ...             ...   \n",
       "226263  pageview  8/24/2021  Turks and Caicos Islands  Providenciales   \n",
       "226264  pageview  8/24/2021                 Australia          Sydney   \n",
       "226269  pageview  8/24/2021            United Kingdom          London   \n",
       "226272  pageview  8/24/2021             United States         Chicago   \n",
       "226274  pageview  8/24/2021                     India         Chennai   \n",
       "\n",
       "                                       artist  \\\n",
       "0                                      Tesher   \n",
       "2                               Reyanna Maria   \n",
       "3           Simone & Simaria, Sebastian Yatra   \n",
       "4                                      Tesher   \n",
       "5                                   KenTheMan   \n",
       "...                                       ...   \n",
       "226263  Kayla Nicole, Taylor Girlz, Flo Milli   \n",
       "226264                            salem ilese   \n",
       "226269                                  Zeina   \n",
       "226272          Pop Smoke, 21 Savage, 42 Dugg   \n",
       "226274                                 Miscél   \n",
       "\n",
       "                                            album  \\\n",
       "0                                     Jalebi Baby   \n",
       "2                                       So Pretty   \n",
       "3                                   No Llores Más   \n",
       "4                                     Jalebi Baby   \n",
       "5                                     I'm Perfect   \n",
       "...                                           ...   \n",
       "226263  Bundles 2 (feat. Flo Milli, Taylor Girlz)   \n",
       "226264                              Mad at Disney   \n",
       "226269                                   Talk Luv   \n",
       "226272                                      Faith   \n",
       "226274                              when you left   \n",
       "\n",
       "                                             track          isrc  \\\n",
       "0                                      Jalebi Baby  QZNWQ2070741   \n",
       "2                                        So Pretty  USUM72100871   \n",
       "3                                    No Llores Más  BRUM72003904   \n",
       "4                                      Jalebi Baby  QZNWQ2070741   \n",
       "5                                      I'm Perfect  US39N2102090   \n",
       "...                                            ...           ...   \n",
       "226263   Bundles 2 (feat. Flo Milli, Taylor Girlz)  QMCE32100359   \n",
       "226264                               Mad at Disney  QMEZE2076989   \n",
       "226269                                    Talk Luv  QZAKB2124527   \n",
       "226272  Bout A Million (feat. 42 Dugg & 21 Savage)  USUM72112386   \n",
       "226274                               when you left  QM42K1907890   \n",
       "\n",
       "                                      linkid  \n",
       "0       2d896d31-97b6-4869-967b-1c5fb9cd4bb8  \n",
       "2       23199824-9cf5-4b98-942a-34965c3b0cc2  \n",
       "3       35573248-4e49-47c7-af80-08a960fa74cd  \n",
       "4       2d896d31-97b6-4869-967b-1c5fb9cd4bb8  \n",
       "5       190c7170-4044-4c97-9709-926917155b02  \n",
       "...                                      ...  \n",
       "226263  fbf4b935-f961-4b13-b1d8-45ad47093559  \n",
       "226264  61923241-cf99-4fe2-b9ec-6cf356565842  \n",
       "226269  4c402853-c65b-4ea5-ac65-04a9faf5c043  \n",
       "226272  9ca8ca2d-3507-4287-8f66-a80314dc7169  \n",
       "226274  2fc15e8b-83aa-40ee-9f9d-5d96c6d4356c  \n",
       "\n",
       "[116257 rows x 9 columns]"
      ]
     },
     "execution_count": 8,
     "metadata": {},
     "output_type": "execute_result"
    }
   ],
   "source": [
    "website_traffic.drop_duplicates()"
   ]
  },
  {
   "cell_type": "code",
   "execution_count": 9,
   "id": "3c8d6eec",
   "metadata": {},
   "outputs": [],
   "source": [
    "Date_Format=pd.to_datetime(website_traffic['date'])"
   ]
  },
  {
   "cell_type": "code",
   "execution_count": 10,
   "id": "fe501343",
   "metadata": {},
   "outputs": [],
   "source": [
    "website_traffic['date']=Date_Format"
   ]
  },
  {
   "cell_type": "code",
   "execution_count": 11,
   "id": "480e498b",
   "metadata": {},
   "outputs": [
    {
     "data": {
      "text/plain": [
       "event              object\n",
       "date       datetime64[ns]\n",
       "country            object\n",
       "city               object\n",
       "artist             object\n",
       "album              object\n",
       "track              object\n",
       "isrc               object\n",
       "linkid             object\n",
       "dtype: object"
      ]
     },
     "execution_count": 11,
     "metadata": {},
     "output_type": "execute_result"
    }
   ],
   "source": [
    "website_traffic.dtypes"
   ]
  },
  {
   "cell_type": "code",
   "execution_count": 12,
   "id": "0731bcf6",
   "metadata": {},
   "outputs": [
    {
     "name": "stdout",
     "output_type": "stream",
     "text": [
      "<class 'pandas.core.frame.DataFrame'>\n",
      "Index: 219149 entries, 0 to 226277\n",
      "Data columns (total 9 columns):\n",
      " #   Column   Non-Null Count   Dtype         \n",
      "---  ------   --------------   -----         \n",
      " 0   event    219149 non-null  object        \n",
      " 1   date     219149 non-null  datetime64[ns]\n",
      " 2   country  219149 non-null  object        \n",
      " 3   city     219149 non-null  object        \n",
      " 4   artist   219149 non-null  object        \n",
      " 5   album    219149 non-null  object        \n",
      " 6   track    219149 non-null  object        \n",
      " 7   isrc     219149 non-null  object        \n",
      " 8   linkid   219149 non-null  object        \n",
      "dtypes: datetime64[ns](1), object(8)\n",
      "memory usage: 16.7+ MB\n"
     ]
    }
   ],
   "source": [
    "website_traffic.info()"
   ]
  },
  {
   "cell_type": "markdown",
   "id": "803dfca0",
   "metadata": {},
   "source": [
    "# Exploratory Data Analysis "
   ]
  },
  {
   "cell_type": "markdown",
   "id": "46db292f",
   "metadata": {},
   "source": [
    "# Traffic Trends Analysis\n"
   ]
  },
  {
   "cell_type": "code",
   "execution_count": 13,
   "id": "9661adcb",
   "metadata": {},
   "outputs": [
    {
     "data": {
      "text/html": [
       "<div>\n",
       "<style scoped>\n",
       "    .dataframe tbody tr th:only-of-type {\n",
       "        vertical-align: middle;\n",
       "    }\n",
       "\n",
       "    .dataframe tbody tr th {\n",
       "        vertical-align: top;\n",
       "    }\n",
       "\n",
       "    .dataframe thead th {\n",
       "        text-align: right;\n",
       "    }\n",
       "</style>\n",
       "<table border=\"1\" class=\"dataframe\">\n",
       "  <thead>\n",
       "    <tr style=\"text-align: right;\">\n",
       "      <th></th>\n",
       "      <th>event</th>\n",
       "      <th>country</th>\n",
       "      <th>city</th>\n",
       "      <th>artist</th>\n",
       "      <th>album</th>\n",
       "      <th>track</th>\n",
       "      <th>isrc</th>\n",
       "      <th>linkid</th>\n",
       "    </tr>\n",
       "    <tr>\n",
       "      <th>date</th>\n",
       "      <th></th>\n",
       "      <th></th>\n",
       "      <th></th>\n",
       "      <th></th>\n",
       "      <th></th>\n",
       "      <th></th>\n",
       "      <th></th>\n",
       "      <th></th>\n",
       "    </tr>\n",
       "  </thead>\n",
       "  <tbody>\n",
       "    <tr>\n",
       "      <th>2021-08-21</th>\n",
       "      <td>click</td>\n",
       "      <td>Saudi Arabia</td>\n",
       "      <td>Jeddah</td>\n",
       "      <td>Tesher</td>\n",
       "      <td>Jalebi Baby</td>\n",
       "      <td>Jalebi Baby</td>\n",
       "      <td>QZNWQ2070741</td>\n",
       "      <td>2d896d31-97b6-4869-967b-1c5fb9cd4bb8</td>\n",
       "    </tr>\n",
       "    <tr>\n",
       "      <th>2021-08-21</th>\n",
       "      <td>click</td>\n",
       "      <td>Saudi Arabia</td>\n",
       "      <td>Jeddah</td>\n",
       "      <td>Tesher</td>\n",
       "      <td>Jalebi Baby</td>\n",
       "      <td>Jalebi Baby</td>\n",
       "      <td>QZNWQ2070741</td>\n",
       "      <td>2d896d31-97b6-4869-967b-1c5fb9cd4bb8</td>\n",
       "    </tr>\n",
       "    <tr>\n",
       "      <th>2021-08-21</th>\n",
       "      <td>click</td>\n",
       "      <td>India</td>\n",
       "      <td>Ludhiana</td>\n",
       "      <td>Reyanna Maria</td>\n",
       "      <td>So Pretty</td>\n",
       "      <td>So Pretty</td>\n",
       "      <td>USUM72100871</td>\n",
       "      <td>23199824-9cf5-4b98-942a-34965c3b0cc2</td>\n",
       "    </tr>\n",
       "    <tr>\n",
       "      <th>2021-08-21</th>\n",
       "      <td>click</td>\n",
       "      <td>France</td>\n",
       "      <td>Unknown</td>\n",
       "      <td>Simone &amp; Simaria, Sebastian Yatra</td>\n",
       "      <td>No Llores Más</td>\n",
       "      <td>No Llores Más</td>\n",
       "      <td>BRUM72003904</td>\n",
       "      <td>35573248-4e49-47c7-af80-08a960fa74cd</td>\n",
       "    </tr>\n",
       "    <tr>\n",
       "      <th>2021-08-21</th>\n",
       "      <td>click</td>\n",
       "      <td>Maldives</td>\n",
       "      <td>Malé</td>\n",
       "      <td>Tesher</td>\n",
       "      <td>Jalebi Baby</td>\n",
       "      <td>Jalebi Baby</td>\n",
       "      <td>QZNWQ2070741</td>\n",
       "      <td>2d896d31-97b6-4869-967b-1c5fb9cd4bb8</td>\n",
       "    </tr>\n",
       "    <tr>\n",
       "      <th>...</th>\n",
       "      <td>...</td>\n",
       "      <td>...</td>\n",
       "      <td>...</td>\n",
       "      <td>...</td>\n",
       "      <td>...</td>\n",
       "      <td>...</td>\n",
       "      <td>...</td>\n",
       "      <td>...</td>\n",
       "    </tr>\n",
       "    <tr>\n",
       "      <th>2021-08-24</th>\n",
       "      <td>pageview</td>\n",
       "      <td>Kuwait</td>\n",
       "      <td>Kuwait City</td>\n",
       "      <td>Sean Paul</td>\n",
       "      <td>The Trinity</td>\n",
       "      <td>Temperature</td>\n",
       "      <td>USAT20505520</td>\n",
       "      <td>04ba6b17-1055-4f0e-a75e-3cdb0d0d4106</td>\n",
       "    </tr>\n",
       "    <tr>\n",
       "      <th>2021-08-24</th>\n",
       "      <td>pageview</td>\n",
       "      <td>India</td>\n",
       "      <td>Chennai</td>\n",
       "      <td>Miscél</td>\n",
       "      <td>when you left</td>\n",
       "      <td>when you left</td>\n",
       "      <td>QM42K1907890</td>\n",
       "      <td>2fc15e8b-83aa-40ee-9f9d-5d96c6d4356c</td>\n",
       "    </tr>\n",
       "    <tr>\n",
       "      <th>2021-08-24</th>\n",
       "      <td>pageview</td>\n",
       "      <td>India</td>\n",
       "      <td>Jaipur</td>\n",
       "      <td>Trippie Redd, Lil Uzi Vert</td>\n",
       "      <td>Holy Smokes (feat. Lil Uzi Vert)</td>\n",
       "      <td>Holy Smokes</td>\n",
       "      <td>QZJ842001118</td>\n",
       "      <td>eedc8702-6bd2-499a-972f-260c35f72e0f</td>\n",
       "    </tr>\n",
       "    <tr>\n",
       "      <th>2021-08-24</th>\n",
       "      <td>pageview</td>\n",
       "      <td>France</td>\n",
       "      <td>Unknown</td>\n",
       "      <td>Young Thug</td>\n",
       "      <td>Tick Tock</td>\n",
       "      <td>Tick Tock</td>\n",
       "      <td>USAT22104514</td>\n",
       "      <td>e0a76dc3-7ccd-405f-8ee8-a2c55c0e0ed2</td>\n",
       "    </tr>\n",
       "    <tr>\n",
       "      <th>2021-08-24</th>\n",
       "      <td>pageview</td>\n",
       "      <td>Iraq</td>\n",
       "      <td>Duhok</td>\n",
       "      <td>Tesher</td>\n",
       "      <td>Jalebi Baby</td>\n",
       "      <td>Jalebi Baby</td>\n",
       "      <td>QZNWQ2070741</td>\n",
       "      <td>2d896d31-97b6-4869-967b-1c5fb9cd4bb8</td>\n",
       "    </tr>\n",
       "  </tbody>\n",
       "</table>\n",
       "<p>219149 rows × 8 columns</p>\n",
       "</div>"
      ],
      "text/plain": [
       "               event       country         city  \\\n",
       "date                                              \n",
       "2021-08-21     click  Saudi Arabia       Jeddah   \n",
       "2021-08-21     click  Saudi Arabia       Jeddah   \n",
       "2021-08-21     click         India     Ludhiana   \n",
       "2021-08-21     click        France      Unknown   \n",
       "2021-08-21     click      Maldives         Malé   \n",
       "...              ...           ...          ...   \n",
       "2021-08-24  pageview        Kuwait  Kuwait City   \n",
       "2021-08-24  pageview         India      Chennai   \n",
       "2021-08-24  pageview         India       Jaipur   \n",
       "2021-08-24  pageview        France      Unknown   \n",
       "2021-08-24  pageview          Iraq        Duhok   \n",
       "\n",
       "                                       artist  \\\n",
       "date                                            \n",
       "2021-08-21                             Tesher   \n",
       "2021-08-21                             Tesher   \n",
       "2021-08-21                      Reyanna Maria   \n",
       "2021-08-21  Simone & Simaria, Sebastian Yatra   \n",
       "2021-08-21                             Tesher   \n",
       "...                                       ...   \n",
       "2021-08-24                          Sean Paul   \n",
       "2021-08-24                             Miscél   \n",
       "2021-08-24         Trippie Redd, Lil Uzi Vert   \n",
       "2021-08-24                         Young Thug   \n",
       "2021-08-24                             Tesher   \n",
       "\n",
       "                                       album          track          isrc  \\\n",
       "date                                                                        \n",
       "2021-08-21                       Jalebi Baby    Jalebi Baby  QZNWQ2070741   \n",
       "2021-08-21                       Jalebi Baby    Jalebi Baby  QZNWQ2070741   \n",
       "2021-08-21                         So Pretty      So Pretty  USUM72100871   \n",
       "2021-08-21                     No Llores Más  No Llores Más  BRUM72003904   \n",
       "2021-08-21                       Jalebi Baby    Jalebi Baby  QZNWQ2070741   \n",
       "...                                      ...            ...           ...   \n",
       "2021-08-24                       The Trinity    Temperature  USAT20505520   \n",
       "2021-08-24                     when you left  when you left  QM42K1907890   \n",
       "2021-08-24  Holy Smokes (feat. Lil Uzi Vert)    Holy Smokes  QZJ842001118   \n",
       "2021-08-24                         Tick Tock      Tick Tock  USAT22104514   \n",
       "2021-08-24                       Jalebi Baby    Jalebi Baby  QZNWQ2070741   \n",
       "\n",
       "                                          linkid  \n",
       "date                                              \n",
       "2021-08-21  2d896d31-97b6-4869-967b-1c5fb9cd4bb8  \n",
       "2021-08-21  2d896d31-97b6-4869-967b-1c5fb9cd4bb8  \n",
       "2021-08-21  23199824-9cf5-4b98-942a-34965c3b0cc2  \n",
       "2021-08-21  35573248-4e49-47c7-af80-08a960fa74cd  \n",
       "2021-08-21  2d896d31-97b6-4869-967b-1c5fb9cd4bb8  \n",
       "...                                          ...  \n",
       "2021-08-24  04ba6b17-1055-4f0e-a75e-3cdb0d0d4106  \n",
       "2021-08-24  2fc15e8b-83aa-40ee-9f9d-5d96c6d4356c  \n",
       "2021-08-24  eedc8702-6bd2-499a-972f-260c35f72e0f  \n",
       "2021-08-24  e0a76dc3-7ccd-405f-8ee8-a2c55c0e0ed2  \n",
       "2021-08-24  2d896d31-97b6-4869-967b-1c5fb9cd4bb8  \n",
       "\n",
       "[219149 rows x 8 columns]"
      ]
     },
     "execution_count": 13,
     "metadata": {},
     "output_type": "execute_result"
    }
   ],
   "source": [
    "website_traffic.set_index('date')"
   ]
  },
  {
   "cell_type": "markdown",
   "id": "b6eeabbd",
   "metadata": {},
   "source": [
    "### Daily Traffic Trends:"
   ]
  },
  {
   "cell_type": "code",
   "execution_count": 14,
   "id": "2d677316",
   "metadata": {},
   "outputs": [
    {
     "data": {
      "text/plain": [
       "date\n",
       "2021-08-21    34079\n",
       "2021-08-22    32629\n",
       "2021-08-20    32308\n",
       "2021-08-25    30442\n",
       "2021-08-19    30068\n",
       "2021-08-24    29821\n",
       "2021-08-23    29802\n",
       "Name: count, dtype: int64"
      ]
     },
     "execution_count": 14,
     "metadata": {},
     "output_type": "execute_result"
    }
   ],
   "source": [
    "daily_traffic=website_traffic['date'].value_counts()\n",
    "daily_traffic"
   ]
  },
  {
   "cell_type": "markdown",
   "id": "4a7f6cb9",
   "metadata": {},
   "source": [
    "# User Behavior Analysis"
   ]
  },
  {
   "cell_type": "markdown",
   "id": "b015d459",
   "metadata": {},
   "source": [
    "### Event Type Distribution"
   ]
  },
  {
   "cell_type": "code",
   "execution_count": 15,
   "id": "9785c626",
   "metadata": {},
   "outputs": [
    {
     "data": {
      "text/plain": [
       "event\n",
       "pageview    137115\n",
       "click        53504\n",
       "preview      28530\n",
       "Name: count, dtype: int64"
      ]
     },
     "execution_count": 15,
     "metadata": {},
     "output_type": "execute_result"
    }
   ],
   "source": [
    "users=website_traffic['event'].value_counts()\n",
    "users"
   ]
  },
  {
   "cell_type": "markdown",
   "id": "452cec4a",
   "metadata": {},
   "source": [
    "### Top 10 Artists by User Interaction"
   ]
  },
  {
   "cell_type": "code",
   "execution_count": 16,
   "id": "88a4b882",
   "metadata": {},
   "outputs": [
    {
     "data": {
      "text/plain": [
       "artist\n",
       "Tesher                                                          40841\n",
       "Anne-Marie                                                      10649\n",
       "Tundra Beats                                                     9750\n",
       "Surf Mesa, Emilee                                                7524\n",
       "DMNDS, Strange Fruits Music, Fallen Roses, Lujavo, Nito-Onna     5512\n",
       "Reyanna Maria                                                    5434\n",
       "Shawn Mendes, Tainy                                              5409\n",
       "50 Cent, Olivia                                                  5367\n",
       "Roddy Ricch                                                      5085\n",
       "Olivia Rodrigo                                                   4103\n",
       "Name: count, dtype: int64"
      ]
     },
     "execution_count": 16,
     "metadata": {},
     "output_type": "execute_result"
    }
   ],
   "source": [
    "artist_interactions =website_traffic['artist'].value_counts().head(10)\n",
    "artist_interactions"
   ]
  },
  {
   "cell_type": "markdown",
   "id": "2f05bff2",
   "metadata": {},
   "source": [
    "# Conversion Rate Analysis"
   ]
  },
  {
   "cell_type": "code",
   "execution_count": 17,
   "id": "0596627b",
   "metadata": {},
   "outputs": [
    {
     "name": "stdout",
     "output_type": "stream",
     "text": [
      "Conversion Rate For Clicks: 24.41%\n",
      "Conversion Rate For Pageview: 62.57%\n",
      "Conversion Rate For Preview: 13.02%\n"
     ]
    }
   ],
   "source": [
    "total_events = len(website_traffic)\n",
    "clicks = len(website_traffic[website_traffic['event'] == 'click'])\n",
    "conversion_clicks_rate = (clicks / total_events) * 100\n",
    "\n",
    "pageview= len(website_traffic[website_traffic['event'] == 'pageview'])\n",
    "conversion_pageview_rate = (pageview / total_events) * 100\n",
    "\n",
    "preview= len(website_traffic[website_traffic['event'] == 'preview'])\n",
    "conversion_preview_rate = (preview / total_events) * 100\n",
    "\n",
    "print(f\"Conversion Rate For Clicks: {conversion_clicks_rate:.2f}%\")\n",
    "print(f\"Conversion Rate For Pageview: {conversion_pageview_rate:.2f}%\")\n",
    "print(f\"Conversion Rate For Preview: {conversion_preview_rate:.2f}%\")"
   ]
  },
  {
   "cell_type": "markdown",
   "id": "61ab0456",
   "metadata": {},
   "source": [
    "#  Identify Most Popular Pages"
   ]
  },
  {
   "cell_type": "markdown",
   "id": "83185f17",
   "metadata": {},
   "source": [
    "### Top 10 Most Popular Pages"
   ]
  },
  {
   "cell_type": "code",
   "execution_count": 18,
   "id": "9c1d238c",
   "metadata": {},
   "outputs": [
    {
     "data": {
      "text/plain": [
       "linkid\n",
       "2d896d31-97b6-4869-967b-1c5fb9cd4bb8    40841\n",
       "522da5cc-8177-4140-97a7-a84fdb4caf1c    10314\n",
       "e849515b-929d-44c8-a505-e7622f1827e9     9750\n",
       "c2c876ab-b093-4750-9449-6b4913da6af3     6733\n",
       "681d888a-59ce-4acb-b7c5-95dab0c063d9     5512\n",
       "23199824-9cf5-4b98-942a-34965c3b0cc2     5434\n",
       "97105aff-3e40-4c2e-bfeb-563b55e8f5dd     5367\n",
       "d5317591-872a-487d-87cb-10a516643d5f     5352\n",
       "a82e72d8-523f-43ab-9fd0-992605d54b4e     5036\n",
       "a107c329-5d35-4c7d-8050-50bc69ce7dbc     3879\n",
       "Name: count, dtype: int64"
      ]
     },
     "execution_count": 18,
     "metadata": {},
     "output_type": "execute_result"
    }
   ],
   "source": [
    "top_pages = website_traffic['linkid'].value_counts().head(10)\n",
    "top_pages"
   ]
  },
  {
   "cell_type": "markdown",
   "id": "ffd81cdd",
   "metadata": {},
   "source": [
    "# Traffic Sources "
   ]
  },
  {
   "cell_type": "code",
   "execution_count": 19,
   "id": "28161e0d",
   "metadata": {},
   "outputs": [
    {
     "data": {
      "text/plain": [
       "country\n",
       "Saudi Arabia            46960\n",
       "India                   42991\n",
       "United States           27355\n",
       "France                  15638\n",
       "Iraq                     8168\n",
       "United Kingdom           5964\n",
       "Pakistan                 5585\n",
       "Germany                  4760\n",
       "United Arab Emirates     3696\n",
       "Turkey                   3494\n",
       "Kuwait                   3015\n",
       "Oman                     2797\n",
       "Canada                   2736\n",
       "Australia                2202\n",
       "Nigeria                  2161\n",
       "Netherlands              1785\n",
       "Norway                   1494\n",
       "Bangladesh               1432\n",
       "Sweden                   1363\n",
       "Belgium                  1304\n",
       "Jordan                   1124\n",
       "Ghana                    1038\n",
       "Morocco                   982\n",
       "Mexico                    973\n",
       "Poland                    972\n",
       "Name: count, dtype: int64"
      ]
     },
     "execution_count": 19,
     "metadata": {},
     "output_type": "execute_result"
    }
   ],
   "source": [
    "top_countries=website_traffic['country'].value_counts()\n",
    "top_countries.head(25)"
   ]
  },
  {
   "cell_type": "markdown",
   "id": "aa6c6b7e",
   "metadata": {},
   "source": [
    "#  User Pathways"
   ]
  },
  {
   "cell_type": "code",
   "execution_count": 20,
   "id": "04bb8317",
   "metadata": {},
   "outputs": [
    {
     "name": "stdout",
     "output_type": "stream",
     "text": [
      "date\n",
      "2021-08-19    [006af6a0-1f0d-4b0c-93bf-756af9071c06, 006af6a...\n",
      "2021-08-20    [006af6a0-1f0d-4b0c-93bf-756af9071c06, 006af6a...\n",
      "2021-08-21    [006af6a0-1f0d-4b0c-93bf-756af9071c06, 006af6a...\n",
      "2021-08-22    [006af6a0-1f0d-4b0c-93bf-756af9071c06, 006af6a...\n",
      "2021-08-23    [006af6a0-1f0d-4b0c-93bf-756af9071c06, 006af6a...\n",
      "2021-08-24    [006af6a0-1f0d-4b0c-93bf-756af9071c06, 006af6a...\n",
      "2021-08-25    [006af6a0-1f0d-4b0c-93bf-756af9071c06, 006af6a...\n",
      "Name: linkid, dtype: object\n"
     ]
    }
   ],
   "source": [
    "website_traffic_sorted = website_traffic.sort_values(by=['date', 'linkid'])\n",
    "user_pathways = website_traffic_sorted.groupby(website_traffic_sorted['date'].dt.date)['linkid'].apply(list)\n",
    "print(user_pathways.head(10)) \n"
   ]
  },
  {
   "cell_type": "markdown",
   "id": "803174dd",
   "metadata": {},
   "source": [
    "# Visualization\n",
    "* Create \n",
    "* Line graphs for traffic trends\n",
    "* Pie charts for traffic sources\n",
    "* Bar charts for top-performing pages."
   ]
  },
  {
   "cell_type": "markdown",
   "id": "90d56617",
   "metadata": {},
   "source": [
    "### Line graphs for traffic trends"
   ]
  },
  {
   "cell_type": "code",
   "execution_count": 21,
   "id": "b6ba194b",
   "metadata": {},
   "outputs": [
    {
     "data": {
      "image/png": "[encoded data removed]",
      "text/plain": [
       "<Figure size 1000x600 with 1 Axes>"
      ]
     },
     "metadata": {},
     "output_type": "display_data"
    }
   ],
   "source": [
    "# Group by date and count events to get daily traffic trends\n",
    "daily_traffic = website_traffic.groupby(website_traffic['date'].dt.date).size()\n",
    "\n",
    "plt.figure(figsize=(10, 6))\n",
    "plt.plot(daily_traffic.index, daily_traffic.values, marker='*', color='g', linestyle='-')\n",
    "plt.title('Daily Traffic Trends')\n",
    "plt.xlabel('Date')\n",
    "plt.ylabel('Number of Interactions')\n",
    "plt.xticks(rotation=45)\n",
    "plt.show()\n"
   ]
  },
  {
   "cell_type": "markdown",
   "id": "5a0cf427",
   "metadata": {},
   "source": [
    "###  Pie charts for traffic sources"
   ]
  },
  {
   "cell_type": "code",
   "execution_count": 22,
   "id": "1c6033e0",
   "metadata": {},
   "outputs": [
    {
     "data": {
      "image/png": "[encoded data removed]",
      "text/plain": [
       "<Figure size 600x600 with 1 Axes>"
      ]
     },
     "metadata": {},
     "output_type": "display_data"
    }
   ],
   "source": [
    "# Count occurrences of each event type\n",
    "event_counts =  website_traffic['event'].value_counts()\n",
    "\n",
    "plt.figure(figsize=(6, 6))\n",
    "plt.pie(event_counts, labels=event_counts.index, autopct='%1.1f%%', startangle=120)\n",
    "plt.title('Traffic Sources by Event Type')\n",
    "plt.show()\n"
   ]
  },
  {
   "cell_type": "markdown",
   "id": "bb13f818",
   "metadata": {},
   "source": [
    "### Bar charts for top-performing pages."
   ]
  },
  {
   "cell_type": "code",
   "execution_count": 23,
   "id": "1631c03a",
   "metadata": {},
   "outputs": [
    {
     "data": {
      "image/png": "[encoded data removed]",
      "text/plain": [
       "<Figure size 1200x600 with 1 Axes>"
      ]
     },
     "metadata": {},
     "output_type": "display_data"
    }
   ],
   "source": [
    "# Get the top 10 most interacted pages\n",
    "top_pages =  website_traffic['linkid'].value_counts().head(10)\n",
    "\n",
    "plt.figure(figsize=(12, 6))\n",
    "sns.barplot(x=top_pages.values, y=top_pages.index)\n",
    "plt.title('Top 10 Performing Pages by Interactions')\n",
    "plt.xlabel('Number of Interactions')\n",
    "plt.ylabel('Page ID')\n",
    "plt.show()\n"
   ]
  },
  {
   "cell_type": "markdown",
   "id": "0cd12121",
   "metadata": {},
   "source": [
    "# Website Traffic Analysis Report"
   ]
  },
  {
   "cell_type": "markdown",
   "id": "704c103f",
   "metadata": {},
   "source": [
    "# **Introduction**\n",
    "<br>\n",
    "Website traffic analysis is the process of monitoring and evaluating the visitor activity on a website.This analysis provides insights into how users are interacting with the website,where they are coming from, most visited pages, and how long they stay. By analyzing this data, businesses can:\n",
    "\n",
    "* Understand user behavior and preferences\n",
    "* Improve site performance\n",
    "* Enhance content strategies\n",
    "* Optimize content to increase engagement and conversions. \n",
    "* Improve user experience and\n",
    "* Optimize for Search Engine Optimization (SEO).\n",
    "<br>\n",
    "This report provides a comprehensive analysis of website traffic trends, offering invaluable insights for businesses seeking to optimize thier online presence."
   ]
  },
  {
   "cell_type": "markdown",
   "id": "55a05205",
   "metadata": {},
   "source": [
    "# Dataset Review\n",
    "The dataset for this analysis consists of 226279 records with 9 columns: event, date, country, city, artist, album, track, isrc, and linkid.\n",
    "<br>\n",
    "The data spans from 19th August 2021 to 25th August 2021, providing a comprehensive view of user behavior, traffic sources, and interactions."
   ]
  },
  {
   "cell_type": "markdown",
   "id": "9d284358",
   "metadata": {},
   "source": [
    "# Objectives\n",
    "This analysis aims to eavaluate the effectiveness of online marketing strategies and identify areas for improvement."
   ]
  },
  {
   "cell_type": "markdown",
   "id": "e1139dff",
   "metadata": {},
   "source": [
    "# Data Cleaning\n",
    "The data cleaning process involved:\n",
    "* **Missing Values:** Records with missing values were dropped, ensuring data completeness.\n",
    "<br>\n",
    "* **Duplicates Removal:** 103,711 duplicate records were identified and removed based on identical values in all columns.\n",
    "<br>\n",
    "* **Date Formatting:** Converted the date column to datetime format to facilitate chronological analysis.\n",
    "These steps yielded a consistent dataset, primed for accurate analysis.\n"
   ]
  },
  {
   "cell_type": "markdown",
   "id": "fd4c6f15",
   "metadata": {},
   "source": [
    "# Exploratory Data Analysis (EDA)"
   ]
  },
  {
   "cell_type": "markdown",
   "id": "0b82b287",
   "metadata": {},
   "source": [
    "## Traffic Trends Analysis\n",
    "Analysis of daily traffic trends revealed significant patterns:\n",
    "### **Key Findings**\n",
    "Traffic peaked on August 21, 2021, with 34,079 interactions. Other high-traffic days occurred between August 19 and August 25, indicating possible promotions during this period.\n",
    "Traffic patterns showed consistent engagement, with significant spikes suggesting optimal times for content publication."
   ]
  },
  {
   "cell_type": "markdown",
   "id": "a668a645",
   "metadata": {},
   "source": [
    "# User Behavior Analysis\n",
    "\n",
    "### Key Findings:\n",
    "* The analysis identified distinct trends in user behavior:\n",
    "<br>\n",
    "Pageview events constituted 59.36% of total interactions, indicating users are primarily browsing.\n",
    "<br>\n",
    "click events comprised 26.27%, and preview events accounted for 14.37%.\n",
    "<br>\n",
    "* Top 10 Artists by User Interactions: \n",
    "<br>\n",
    "Artists such as Tesher (8,288 interactions) and Anne-Marie (4,028 interactions) were the most engaged, \n",
    "<br>\n",
    "suggesting user interest in specific content areas."
   ]
  },
  {
   "cell_type": "markdown",
   "id": "e6202825",
   "metadata": {},
   "source": [
    "# Conversion Rate Analysis\n",
    "### Key Findings\n",
    "The overall conversion rates for different events were:\n",
    "<br>\n",
    "Click Conversion Rate: 26.27%.\n",
    "<br>\n",
    "Pageview Conversion Rate: 59.36%.\n",
    "<br>\n",
    "Preview Conversion Rate: 14.37%.\n",
    "<br>\n",
    "These rates reflect strong user interest in page views and clicks, indicating well-structured pathways on the website.\n"
   ]
  },
  {
   "cell_type": "markdown",
   "id": "c7e3ce2d",
   "metadata": {},
   "source": [
    "## Most Popular Pages\n",
    "Analysis of the linkid field identified the top 10 most interacted pages, providing insights into high-performing content.\n",
    "<br>\n",
    "The most popular page had 8,288 interactions, demonstrating user interest in specific topics or sections.\n",
    "Traffic Sources\n",
    "Country-level analysis highlighted traffic distribution:\n",
    "\n",
    "### Traffic Sources: \n",
    "* Top Traffic Sources by Country:\n",
    "<br>\n",
    "The following countries accounted for the highest traffic volumes:\n",
    "<br>\n",
    "Saudi Arabia            46,960 (34.2% of total traffic)\n",
    "<br>\n",
    "India                   42,991 (31.4% of total traffic)\n",
    "<br>\n",
    "United States           27355 (20.0% of total traffic)\n",
    "<br>\n",
    "France                  15638 (11.4% of total traffic)\n",
    "<br>\n",
    "* Saudi Arabia and India dominate traffic sources, indicating strong engagement in these regions. The United States and France contribute significant traffic, while Iraq emerges as a notable secondary market."
   ]
  },
  {
   "cell_type": "markdown",
   "id": "26c0002c",
   "metadata": {},
   "source": [
    "# Summary\n",
    "The website traffic analysis highlights valuable insights into user behavior, conversion rates, and traffic sources. key findings include:\n",
    "* Traffic trends show consistent engagement with peaks in August 21.\n",
    "* User primarily browse (59.36%) and click (26.27%).\n",
    "* Top engaged pages indicate strong interest in specific content.\n",
    "* Conversion rates are highest for page views and clicks.\n",
    "* Saudi Arabia, India, the United States, and France dominate traffic sources."
   ]
  },
  {
   "cell_type": "markdown",
   "id": "51829e4e",
   "metadata": {},
   "source": [
    "# Conclusion\n",
    "The website traffic analysis highlights valuable insights into user behavior, conversion rates, and traffic sources. The findings indicates a strong interest in specific content, consistent engagement, and opportunities for optimization. By leveraging these insights, the website can enhance user experience, improveconversion rates, and increase overall performance."
   ]
  },
  {
   "cell_type": "markdown",
   "id": "8ac2d4cd",
   "metadata": {},
   "source": [
    "# Recommendations\n",
    "* Optimize Content Timing:\n",
    "Schedule major content releases on high-traffic days.\n",
    "* Enhance Interactive Elements:\n",
    "Add interactive features to high-performing pages to boost click conversions.\n",
    "* Targeted Content Strategy: \n",
    "Focus on popular artists and topics to increase user engagement.\n",
    "* Geographic Marketing:\n",
    "Target the top traffic-generating countries with localized content and promotions.\n",
    "* User Pathway Optimization: \n",
    "Streamline navigation for frequently accessed pages to improve user flow and conversion.\n",
    "Implementing these strategies could enhance website engagement, user satisfaction, and conversion rates, contributing to overall business growth.\n",
    "\n"
   ]
  }
 ],
 "metadata": {
  "kernelspec": {
   "display_name": "Python 3 (ipykernel)",
   "language": "python",
   "name": "python3"
  },
  "language_info": {
   "codemirror_mode": {
    "name": "ipython",
    "version": 3
   },
   "file_extension": ".py",
   "mimetype": "text/x-python",
   "name": "python",
   "nbconvert_exporter": "python",
   "pygments_lexer": "ipython3",
   "version": "3.11.5"
  }
 },
 "nbformat": 4,
 "nbformat_minor": 5
}
